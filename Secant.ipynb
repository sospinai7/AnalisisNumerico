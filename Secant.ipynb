{
 "cells": [
  {
   "cell_type": "code",
   "execution_count": 1,
   "id": "6ab2d085",
   "metadata": {},
   "outputs": [],
   "source": [
    "\"\"\" The secant root-finding method \"\"\"\n",
    "\n",
    "\n",
    "def secant(f, a, b, tol=0.001, maxiter=100):\n",
    "    \"\"\"\n",
    "    :param f: The function to solve\n",
    "    :param a: Initial x-axis guess value\n",
    "    :param b: Initial x-axis guess value, where b>a\n",
    "    :param tol: The precision of the solution\n",
    "    :param maxiter: Maximum number of iterations\n",
    "    :return: The x-axis value of the root,\n",
    "                number of iterations used\n",
    "    \"\"\"\n",
    "    n = 1\n",
    "    while n <= maxiter:\n",
    "        c = b - f(b)*((b-a)/(f(b)-f(a)))\n",
    "        if abs(c-b) < tol:\n",
    "            return c, n\n",
    "\n",
    "        a = b\n",
    "        b = c\n",
    "        n += 1\n",
    "\n",
    "    return None, n"
   ]
  },
  {
   "cell_type": "code",
   "execution_count": 3,
   "id": "64ccc31c",
   "metadata": {},
   "outputs": [
    {
     "name": "stdout",
     "output_type": "stream",
     "text": [
      "Root is: 1.2418965622558549\n",
      "Iterations: 14\n"
     ]
    }
   ],
   "source": [
    "y = lambda x: x**3 + 2*x**2 - 5\n",
    "root, iterations = secant(y, -5.0, 5.0, 0.00001, 100)\n",
    "print(\"Root is:\", root)\n",
    "print(\"Iterations:\", iterations)"
   ]
  },
  {
   "cell_type": "code",
   "execution_count": null,
   "id": "4169bfc3",
   "metadata": {},
   "outputs": [],
   "source": []
  }
 ],
 "metadata": {
  "kernelspec": {
   "display_name": "Python 3",
   "language": "python",
   "name": "python3"
  },
  "language_info": {
   "codemirror_mode": {
    "name": "ipython",
    "version": 3
   },
   "file_extension": ".py",
   "mimetype": "text/x-python",
   "name": "python",
   "nbconvert_exporter": "python",
   "pygments_lexer": "ipython3",
   "version": "3.8.8"
  }
 },
 "nbformat": 4,
 "nbformat_minor": 5
}
