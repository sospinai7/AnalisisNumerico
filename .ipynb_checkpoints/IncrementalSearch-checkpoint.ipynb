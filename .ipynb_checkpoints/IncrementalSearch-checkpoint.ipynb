{
 "cells": [
  {
   "cell_type": "code",
   "execution_count": 1,
   "id": "7cebb14f",
   "metadata": {},
   "outputs": [],
   "source": [
    "'''\n",
    "Python code:\n",
    "Incremental search method\n",
    "'''\n",
    "\"\"\" An incremental search algorithm \"\"\"\n",
    "import numpy as np"
   ]
  },
  {
   "cell_type": "code",
   "execution_count": 2,
   "id": "1267cb49",
   "metadata": {},
   "outputs": [],
   "source": [
    "def incremental_search(f, a, b, dx):\n",
    "    \"\"\"\n",
    "    :param f: The function to solve\n",
    "    :param a: The left boundary x-axis value\n",
    "    :param b: The right boundary x-axis value\n",
    "    :param dx: The incremental value in searching\n",
    "    :return: The x-axis value of the root,\n",
    "                number of iterations used\n",
    "    \"\"\"\n",
    "    fa = f(a)    \n",
    "    c = a + dx \n",
    "    fc = f(c)    \n",
    "    n = 1\n",
    " \n",
    "    while np.sign(fa) == np.sign(fc):\n",
    "        if a >= b:\n",
    "            return a - dx, n\n",
    "        \n",
    "        a = c\n",
    "        fa = fc\n",
    "        c = a + dx\n",
    "        fc = f(c)\n",
    "        n += 1\n",
    " \n",
    "    if fa == 0:\n",
    "        return a, n\n",
    "    elif fc == 0:\n",
    "        return c, n\n",
    "    else:\n",
    "        return (a + c)/2., n"
   ]
  },
  {
   "cell_type": "code",
   "execution_count": 3,
   "id": "e128390b",
   "metadata": {},
   "outputs": [],
   "source": [
    "y = lambda x: x**3 + 2.0*x**2 - 5"
   ]
  },
  {
   "cell_type": "code",
   "execution_count": 4,
   "id": "97ccc05f",
   "metadata": {},
   "outputs": [],
   "source": [
    "root, iterations = incremental_search(y, -5., 5., 0.001)"
   ]
  },
  {
   "cell_type": "code",
   "execution_count": 8,
   "id": "ed51bf5f",
   "metadata": {},
   "outputs": [
    {
     "name": "stdout",
     "output_type": "stream",
     "text": [
      "Root is: 1.2414999999999783\n",
      "Iterations 6242\n"
     ]
    }
   ],
   "source": [
    "print(\"Root is:\", root)\n",
    "print(\"Iterations:\", iterations)"
   ]
  },
  {
   "cell_type": "code",
   "execution_count": null,
   "id": "7bf7b8e6",
   "metadata": {},
   "outputs": [],
   "source": []
  }
 ],
 "metadata": {
  "kernelspec": {
   "display_name": "Python 3",
   "language": "python",
   "name": "python3"
  },
  "language_info": {
   "codemirror_mode": {
    "name": "ipython",
    "version": 3
   },
   "file_extension": ".py",
   "mimetype": "text/x-python",
   "name": "python",
   "nbconvert_exporter": "python",
   "pygments_lexer": "ipython3",
   "version": "3.8.8"
  }
 },
 "nbformat": 4,
 "nbformat_minor": 5
}
